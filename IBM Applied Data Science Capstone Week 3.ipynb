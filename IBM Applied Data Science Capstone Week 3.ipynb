{
    "cells": [
        {
            "metadata": {
                "collapsed": true
            },
            "cell_type": "markdown",
            "source": "# IBM Coursera Week 3 Applied Data Science Capstone"
        },
        {
            "metadata": {},
            "cell_type": "markdown",
            "source": "## Assignment Instructions\n\n### In this assignment, you will be required to explore, segment, and cluster the neighborhoods in the city of Toronto. However, unlike New York, the neighborhood data is not readily available on the internet. What is interesting about the field of data science is that each project can be challenging in its unique way, so you need to learn to be agile and refine the skill to learn new libraries and tools quickly depending on the project. For the Toronto neighborhood data, a Wikipedia page exists that has all the information we need to explore and cluster the neighborhoods in Toronto. You will be required to scrape the Wikipedia page and wrangle the data, clean it, and then read it into a pandas dataframe so that it is in a structured format like the New York dataset. Once the data is in a structured format, you can replicate the analysis that we did to the New York City dataset to explore and cluster the neighborhoods in the city of Toronto.Your submission will be a link to your Jupyter Notebook on your Github repository."
        },
        {
            "metadata": {},
            "cell_type": "markdown",
            "source": "#### link on how to create a web scraping HTML Tables with Python: https://towardsdatascience.com/web-scraping-html-tables-with-python-c9baba21059"
        },
        {
            "metadata": {},
            "cell_type": "code",
            "source": "import requests\nimport lxml.html as lh\nimport pandas as pd",
            "execution_count": 57,
            "outputs": []
        },
        {
            "metadata": {},
            "cell_type": "code",
            "source": "url ='https://en.wikipedia.org/wiki/List_of_postal_codes_of_Canada:_M'\n        \n#Create a handle, page, to handle the contents of the website \n\ndata = requests.get('https://en.wikipedia.org/wiki/List_of_postal_codes_of_Canada:_M')\n\ndoc = lh.fromstring(data.content)\n\ntr_elements = doc.xpath('//tr')",
            "execution_count": 58,
            "outputs": []
        },
        {
            "metadata": {},
            "cell_type": "code",
            "source": "#sanity check to ensure df is same width and column\n[len(T) for T in tr_elements [:12]]",
            "execution_count": 59,
            "outputs": [
                {
                    "output_type": "execute_result",
                    "execution_count": 59,
                    "data": {
                        "text/plain": "[3, 3, 3, 3, 3, 3, 3, 3, 3, 3, 3, 3]"
                    },
                    "metadata": {}
                }
            ]
        },
        {
            "metadata": {},
            "cell_type": "code",
            "source": "#Parse Table Header\n\ntr_elements = doc.xpath('//tr')\n\nlist = []\ni = 0 \n\nfor t in tr_elements[0]:\n    i+=1\n    name = t.text_content()\n    print ('%d:\"%s\"'%(i,name))\n    list.append((name,[]))",
            "execution_count": 60,
            "outputs": [
                {
                    "output_type": "stream",
                    "text": "1:\"Postal Code\n\"\n2:\"Borough\n\"\n3:\"Neighborhood\n\"\n",
                    "name": "stdout"
                }
            ]
        },
        {
            "metadata": {},
            "cell_type": "code",
            "source": "for y in range(1,len(tr_elements)):\n    T=tr_elements[y]\n    \n    if len(T)!=3:\n        break\n        \n    i=0\n    \n    for t in T.iterchildren():\n        data=t.text_content()\n        if i>0:\n            try: \n                data = int(data)\n            except:\n                pass\n        list[i][1].append(data)\n        i+=1\n        ",
            "execution_count": 61,
            "outputs": []
        },
        {
            "metadata": {},
            "cell_type": "code",
            "source": "#check to see if length and column are the same again\n[len (C) for (title,C) in list]",
            "execution_count": 62,
            "outputs": [
                {
                    "output_type": "execute_result",
                    "execution_count": 62,
                    "data": {
                        "text/plain": "[181, 181, 181]"
                    },
                    "metadata": {}
                }
            ]
        },
        {
            "metadata": {},
            "cell_type": "markdown",
            "source": "#### Creating the Pandas data frame"
        },
        {
            "metadata": {},
            "cell_type": "code",
            "source": "Dict = {title:column for (title,column) in list}\ndf = pd.DataFrame(Dict)",
            "execution_count": 89,
            "outputs": []
        },
        {
            "metadata": {},
            "cell_type": "code",
            "source": "df.head()",
            "execution_count": 90,
            "outputs": [
                {
                    "output_type": "execute_result",
                    "execution_count": 90,
                    "data": {
                        "text/plain": "  Postal Code\\n           Borough\\n               Neighborhood\\n\n0         M1A\\n      Not assigned\\n               Not assigned\\n\n1         M2A\\n      Not assigned\\n               Not assigned\\n\n2         M3A\\n        North York\\n                  Parkwoods\\n\n3         M4A\\n        North York\\n           Victoria Village\\n\n4         M5A\\n  Downtown Toronto\\n  Regent Park, Harbourfront\\n",
                        "text/html": "<div>\n<style scoped>\n    .dataframe tbody tr th:only-of-type {\n        vertical-align: middle;\n    }\n\n    .dataframe tbody tr th {\n        vertical-align: top;\n    }\n\n    .dataframe thead th {\n        text-align: right;\n    }\n</style>\n<table border=\"1\" class=\"dataframe\">\n  <thead>\n    <tr style=\"text-align: right;\">\n      <th></th>\n      <th>Postal Code</th>\n      <th>Borough</th>\n      <th>Neighborhood</th>\n    </tr>\n  </thead>\n  <tbody>\n    <tr>\n      <th>0</th>\n      <td>M1A\\n</td>\n      <td>Not assigned\\n</td>\n      <td>Not assigned\\n</td>\n    </tr>\n    <tr>\n      <th>1</th>\n      <td>M2A\\n</td>\n      <td>Not assigned\\n</td>\n      <td>Not assigned\\n</td>\n    </tr>\n    <tr>\n      <th>2</th>\n      <td>M3A\\n</td>\n      <td>North York\\n</td>\n      <td>Parkwoods\\n</td>\n    </tr>\n    <tr>\n      <th>3</th>\n      <td>M4A\\n</td>\n      <td>North York\\n</td>\n      <td>Victoria Village\\n</td>\n    </tr>\n    <tr>\n      <th>4</th>\n      <td>M5A\\n</td>\n      <td>Downtown Toronto\\n</td>\n      <td>Regent Park, Harbourfront\\n</td>\n    </tr>\n  </tbody>\n</table>\n</div>"
                    },
                    "metadata": {}
                }
            ]
        },
        {
            "metadata": {},
            "cell_type": "code",
            "source": "df.columns = ['Postal Code', 'Borough', 'Neighbourhood']\n\ncols = df.columns.tolist()\ncols\n\ncols = cols[-1:] + cols[:-1]\n\ndf = df[cols]\n\ndf.head()",
            "execution_count": 91,
            "outputs": [
                {
                    "output_type": "execute_result",
                    "execution_count": 91,
                    "data": {
                        "text/plain": "                 Neighbourhood Postal Code             Borough\n0               Not assigned\\n       M1A\\n      Not assigned\\n\n1               Not assigned\\n       M2A\\n      Not assigned\\n\n2                  Parkwoods\\n       M3A\\n        North York\\n\n3           Victoria Village\\n       M4A\\n        North York\\n\n4  Regent Park, Harbourfront\\n       M5A\\n  Downtown Toronto\\n",
                        "text/html": "<div>\n<style scoped>\n    .dataframe tbody tr th:only-of-type {\n        vertical-align: middle;\n    }\n\n    .dataframe tbody tr th {\n        vertical-align: top;\n    }\n\n    .dataframe thead th {\n        text-align: right;\n    }\n</style>\n<table border=\"1\" class=\"dataframe\">\n  <thead>\n    <tr style=\"text-align: right;\">\n      <th></th>\n      <th>Neighbourhood</th>\n      <th>Postal Code</th>\n      <th>Borough</th>\n    </tr>\n  </thead>\n  <tbody>\n    <tr>\n      <th>0</th>\n      <td>Not assigned\\n</td>\n      <td>M1A\\n</td>\n      <td>Not assigned\\n</td>\n    </tr>\n    <tr>\n      <th>1</th>\n      <td>Not assigned\\n</td>\n      <td>M2A\\n</td>\n      <td>Not assigned\\n</td>\n    </tr>\n    <tr>\n      <th>2</th>\n      <td>Parkwoods\\n</td>\n      <td>M3A\\n</td>\n      <td>North York\\n</td>\n    </tr>\n    <tr>\n      <th>3</th>\n      <td>Victoria Village\\n</td>\n      <td>M4A\\n</td>\n      <td>North York\\n</td>\n    </tr>\n    <tr>\n      <th>4</th>\n      <td>Regent Park, Harbourfront\\n</td>\n      <td>M5A\\n</td>\n      <td>Downtown Toronto\\n</td>\n    </tr>\n  </tbody>\n</table>\n</div>"
                    },
                    "metadata": {}
                }
            ]
        },
        {
            "metadata": {},
            "cell_type": "markdown",
            "source": "#### Cleaning data frame"
        },
        {
            "metadata": {},
            "cell_type": "code",
            "source": "df = df.replace('\\n', ' ', regex=True)\ndf.head()",
            "execution_count": 106,
            "outputs": [
                {
                    "output_type": "execute_result",
                    "execution_count": 106,
                    "data": {
                        "text/plain": "                Neighbourhood Postal Code            Borough\n0               Not assigned         M1A       Not assigned \n1               Not assigned         M2A       Not assigned \n2                  Parkwoods         M3A         North York \n3           Victoria Village         M4A         North York \n4  Regent Park, Harbourfront         M5A   Downtown Toronto ",
                        "text/html": "<div>\n<style scoped>\n    .dataframe tbody tr th:only-of-type {\n        vertical-align: middle;\n    }\n\n    .dataframe tbody tr th {\n        vertical-align: top;\n    }\n\n    .dataframe thead th {\n        text-align: right;\n    }\n</style>\n<table border=\"1\" class=\"dataframe\">\n  <thead>\n    <tr style=\"text-align: right;\">\n      <th></th>\n      <th>Neighbourhood</th>\n      <th>Postal Code</th>\n      <th>Borough</th>\n    </tr>\n  </thead>\n  <tbody>\n    <tr>\n      <th>0</th>\n      <td>Not assigned</td>\n      <td>M1A</td>\n      <td>Not assigned</td>\n    </tr>\n    <tr>\n      <th>1</th>\n      <td>Not assigned</td>\n      <td>M2A</td>\n      <td>Not assigned</td>\n    </tr>\n    <tr>\n      <th>2</th>\n      <td>Parkwoods</td>\n      <td>M3A</td>\n      <td>North York</td>\n    </tr>\n    <tr>\n      <th>3</th>\n      <td>Victoria Village</td>\n      <td>M4A</td>\n      <td>North York</td>\n    </tr>\n    <tr>\n      <th>4</th>\n      <td>Regent Park, Harbourfront</td>\n      <td>M5A</td>\n      <td>Downtown Toronto</td>\n    </tr>\n  </tbody>\n</table>\n</div>"
                    },
                    "metadata": {}
                }
            ]
        },
        {
            "metadata": {},
            "cell_type": "markdown",
            "source": "#### Removing not assigned from Borough"
        },
        {
            "metadata": {},
            "cell_type": "code",
            "source": "NA = df[df['Borough'] == 'Not assigned '].index\ndf.drop(NA, inplace = True)\ndf.head()",
            "execution_count": 137,
            "outputs": [
                {
                    "output_type": "execute_result",
                    "execution_count": 137,
                    "data": {
                        "text/plain": "                                  Neighbourhood Postal Code            Borough\n2                                    Parkwoods         M3A         North York \n3                             Victoria Village         M4A         North York \n4                    Regent Park, Harbourfront         M5A   Downtown Toronto \n5             Lawrence Manor, Lawrence Heights         M6A         North York \n6  Queen's Park, Ontario Provincial Government         M7A   Downtown Toronto ",
                        "text/html": "<div>\n<style scoped>\n    .dataframe tbody tr th:only-of-type {\n        vertical-align: middle;\n    }\n\n    .dataframe tbody tr th {\n        vertical-align: top;\n    }\n\n    .dataframe thead th {\n        text-align: right;\n    }\n</style>\n<table border=\"1\" class=\"dataframe\">\n  <thead>\n    <tr style=\"text-align: right;\">\n      <th></th>\n      <th>Neighbourhood</th>\n      <th>Postal Code</th>\n      <th>Borough</th>\n    </tr>\n  </thead>\n  <tbody>\n    <tr>\n      <th>2</th>\n      <td>Parkwoods</td>\n      <td>M3A</td>\n      <td>North York</td>\n    </tr>\n    <tr>\n      <th>3</th>\n      <td>Victoria Village</td>\n      <td>M4A</td>\n      <td>North York</td>\n    </tr>\n    <tr>\n      <th>4</th>\n      <td>Regent Park, Harbourfront</td>\n      <td>M5A</td>\n      <td>Downtown Toronto</td>\n    </tr>\n    <tr>\n      <th>5</th>\n      <td>Lawrence Manor, Lawrence Heights</td>\n      <td>M6A</td>\n      <td>North York</td>\n    </tr>\n    <tr>\n      <th>6</th>\n      <td>Queen's Park, Ontario Provincial Government</td>\n      <td>M7A</td>\n      <td>Downtown Toronto</td>\n    </tr>\n  </tbody>\n</table>\n</div>"
                    },
                    "metadata": {}
                }
            ]
        },
        {
            "metadata": {},
            "cell_type": "markdown",
            "source": "#### Grouping Neigbourhoods based on similar Postal Code and Borough"
        },
        {
            "metadata": {},
            "cell_type": "code",
            "source": "df = df.groupby(['Postal Code', 'Borough'])['Neighbourhood'].apply(','.join).reset_index()\ndf.columns = ['Postal Code', 'Borough', 'Neighbourhood']\ndf.head()",
            "execution_count": 139,
            "outputs": [
                {
                    "output_type": "execute_result",
                    "execution_count": 139,
                    "data": {
                        "text/plain": "  Postal Code                 Borough                            Neighbourhood\n0              Canadian postal codes                                          \n1        M1B             Scarborough                           Malvern, Rouge \n2        M1C             Scarborough   Rouge Hill, Port Union, Highland Creek \n3        M1E             Scarborough        Guildwood, Morningside, West Hill \n4        M1G             Scarborough                                   Woburn ",
                        "text/html": "<div>\n<style scoped>\n    .dataframe tbody tr th:only-of-type {\n        vertical-align: middle;\n    }\n\n    .dataframe tbody tr th {\n        vertical-align: top;\n    }\n\n    .dataframe thead th {\n        text-align: right;\n    }\n</style>\n<table border=\"1\" class=\"dataframe\">\n  <thead>\n    <tr style=\"text-align: right;\">\n      <th></th>\n      <th>Postal Code</th>\n      <th>Borough</th>\n      <th>Neighbourhood</th>\n    </tr>\n  </thead>\n  <tbody>\n    <tr>\n      <th>0</th>\n      <td></td>\n      <td>Canadian postal codes</td>\n      <td></td>\n    </tr>\n    <tr>\n      <th>1</th>\n      <td>M1B</td>\n      <td>Scarborough</td>\n      <td>Malvern, Rouge</td>\n    </tr>\n    <tr>\n      <th>2</th>\n      <td>M1C</td>\n      <td>Scarborough</td>\n      <td>Rouge Hill, Port Union, Highland Creek</td>\n    </tr>\n    <tr>\n      <th>3</th>\n      <td>M1E</td>\n      <td>Scarborough</td>\n      <td>Guildwood, Morningside, West Hill</td>\n    </tr>\n    <tr>\n      <th>4</th>\n      <td>M1G</td>\n      <td>Scarborough</td>\n      <td>Woburn</td>\n    </tr>\n  </tbody>\n</table>\n</div>"
                    },
                    "metadata": {}
                }
            ]
        },
        {
            "metadata": {},
            "cell_type": "markdown",
            "source": "#### Cleaning up the data frame to be neat and tidy"
        },
        {
            "metadata": {},
            "cell_type": "code",
            "source": "df = df.drop(df.index[0])",
            "execution_count": 153,
            "outputs": []
        },
        {
            "metadata": {},
            "cell_type": "code",
            "source": "df.shape",
            "execution_count": 154,
            "outputs": [
                {
                    "output_type": "execute_result",
                    "execution_count": 154,
                    "data": {
                        "text/plain": "(103, 3)"
                    },
                    "metadata": {}
                }
            ]
        },
        {
            "metadata": {},
            "cell_type": "code",
            "source": "",
            "execution_count": null,
            "outputs": []
        }
    ],
    "metadata": {
        "kernelspec": {
            "name": "python3",
            "display_name": "Python 3.6",
            "language": "python"
        },
        "language_info": {
            "name": "python",
            "version": "3.6.9",
            "mimetype": "text/x-python",
            "codemirror_mode": {
                "name": "ipython",
                "version": 3
            },
            "pygments_lexer": "ipython3",
            "nbconvert_exporter": "python",
            "file_extension": ".py"
        }
    },
    "nbformat": 4,
    "nbformat_minor": 1
}