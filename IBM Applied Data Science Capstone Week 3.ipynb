{
    "cells": [
        {
            "cell_type": "markdown",
            "metadata": {
                "collapsed": true
            },
            "source": "# IBM Coursera Week 3 Applied Data Science Capstone"
        },
        {
            "cell_type": "markdown",
            "metadata": {},
            "source": "## Assignment Instructions\n\n### In this assignment, you will be required to explore, segment, and cluster the neighborhoods in the city of Toronto. However, unlike New York, the neighborhood data is not readily available on the internet. What is interesting about the field of data science is that each project can be challenging in its unique way, so you need to learn to be agile and refine the skill to learn new libraries and tools quickly depending on the project. For the Toronto neighborhood data, a Wikipedia page exists that has all the information we need to explore and cluster the neighborhoods in Toronto. You will be required to scrape the Wikipedia page and wrangle the data, clean it, and then read it into a pandas dataframe so that it is in a structured format like the New York dataset. Once the data is in a structured format, you can replicate the analysis that we did to the New York City dataset to explore and cluster the neighborhoods in the city of Toronto.Your submission will be a link to your Jupyter Notebook on your Github repository."
        },
        {
            "cell_type": "markdown",
            "metadata": {},
            "source": "#### link on how to create a web scraping HTML Tables with Python: https://towardsdatascience.com/web-scraping-html-tables-with-python-c9baba21059"
        },
        {
            "cell_type": "code",
            "execution_count": 3,
            "metadata": {},
            "outputs": [],
            "source": "import requests\nimport lxml.html as lh\nimport pandas as pd"
        },
        {
            "cell_type": "code",
            "execution_count": 4,
            "metadata": {},
            "outputs": [],
            "source": "url ='https://en.wikipedia.org/wiki/List_of_postal_codes_of_Canada:_M'\n        \n#Create a handle, page, to handle the contents of the website \n\ndata = requests.get('https://en.wikipedia.org/wiki/List_of_postal_codes_of_Canada:_M')\n\ndoc = lh.fromstring(data.content)\n\ntr_elements = doc.xpath('//tr')"
        },
        {
            "cell_type": "code",
            "execution_count": 5,
            "metadata": {},
            "outputs": [
                {
                    "data": {
                        "text/plain": "[3, 3, 3, 3, 3, 3, 3, 3, 3, 3, 3, 3]"
                    },
                    "execution_count": 5,
                    "metadata": {},
                    "output_type": "execute_result"
                }
            ],
            "source": "#sanity check to ensure df is same width and column\n[len(T) for T in tr_elements [:12]]"
        },
        {
            "cell_type": "code",
            "execution_count": 6,
            "metadata": {},
            "outputs": [
                {
                    "name": "stdout",
                    "output_type": "stream",
                    "text": "1:\"Postal Code\n\"\n2:\"Borough\n\"\n3:\"Neighborhood\n\"\n"
                }
            ],
            "source": "#Parse Table Header\n\ntr_elements = doc.xpath('//tr')\n\nlist = []\ni = 0 \n\nfor t in tr_elements[0]:\n    i+=1\n    name = t.text_content()\n    print ('%d:\"%s\"'%(i,name))\n    list.append((name,[]))"
        },
        {
            "cell_type": "code",
            "execution_count": 7,
            "metadata": {},
            "outputs": [],
            "source": "for y in range(1,len(tr_elements)):\n    T=tr_elements[y]\n    \n    if len(T)!=3:\n        break\n        \n    i=0\n    \n    for t in T.iterchildren():\n        data=t.text_content()\n        if i>0:\n            try: \n                data = int(data)\n            except:\n                pass\n        list[i][1].append(data)\n        i+=1\n        "
        },
        {
            "cell_type": "code",
            "execution_count": 8,
            "metadata": {},
            "outputs": [
                {
                    "data": {
                        "text/plain": "[181, 181, 181]"
                    },
                    "execution_count": 8,
                    "metadata": {},
                    "output_type": "execute_result"
                }
            ],
            "source": "#check to see if length and column are the same again\n[len (C) for (title,C) in list]"
        },
        {
            "cell_type": "markdown",
            "metadata": {},
            "source": "#### Creating the Pandas data frame"
        },
        {
            "cell_type": "code",
            "execution_count": 9,
            "metadata": {},
            "outputs": [],
            "source": "Dict = {title:column for (title,column) in list}\ndf = pd.DataFrame(Dict)"
        },
        {
            "cell_type": "code",
            "execution_count": 10,
            "metadata": {},
            "outputs": [
                {
                    "data": {
                        "text/html": "<div>\n<style scoped>\n    .dataframe tbody tr th:only-of-type {\n        vertical-align: middle;\n    }\n\n    .dataframe tbody tr th {\n        vertical-align: top;\n    }\n\n    .dataframe thead th {\n        text-align: right;\n    }\n</style>\n<table border=\"1\" class=\"dataframe\">\n  <thead>\n    <tr style=\"text-align: right;\">\n      <th></th>\n      <th>Postal Code</th>\n      <th>Borough</th>\n      <th>Neighborhood</th>\n    </tr>\n  </thead>\n  <tbody>\n    <tr>\n      <th>0</th>\n      <td>M1A\\n</td>\n      <td>Not assigned\\n</td>\n      <td>Not assigned\\n</td>\n    </tr>\n    <tr>\n      <th>1</th>\n      <td>M2A\\n</td>\n      <td>Not assigned\\n</td>\n      <td>Not assigned\\n</td>\n    </tr>\n    <tr>\n      <th>2</th>\n      <td>M3A\\n</td>\n      <td>North York\\n</td>\n      <td>Parkwoods\\n</td>\n    </tr>\n    <tr>\n      <th>3</th>\n      <td>M4A\\n</td>\n      <td>North York\\n</td>\n      <td>Victoria Village\\n</td>\n    </tr>\n    <tr>\n      <th>4</th>\n      <td>M5A\\n</td>\n      <td>Downtown Toronto\\n</td>\n      <td>Regent Park, Harbourfront\\n</td>\n    </tr>\n  </tbody>\n</table>\n</div>",
                        "text/plain": "  Postal Code\\n           Borough\\n               Neighborhood\\n\n0         M1A\\n      Not assigned\\n               Not assigned\\n\n1         M2A\\n      Not assigned\\n               Not assigned\\n\n2         M3A\\n        North York\\n                  Parkwoods\\n\n3         M4A\\n        North York\\n           Victoria Village\\n\n4         M5A\\n  Downtown Toronto\\n  Regent Park, Harbourfront\\n"
                    },
                    "execution_count": 10,
                    "metadata": {},
                    "output_type": "execute_result"
                }
            ],
            "source": "df.head()"
        },
        {
            "cell_type": "code",
            "execution_count": 11,
            "metadata": {},
            "outputs": [
                {
                    "data": {
                        "text/html": "<div>\n<style scoped>\n    .dataframe tbody tr th:only-of-type {\n        vertical-align: middle;\n    }\n\n    .dataframe tbody tr th {\n        vertical-align: top;\n    }\n\n    .dataframe thead th {\n        text-align: right;\n    }\n</style>\n<table border=\"1\" class=\"dataframe\">\n  <thead>\n    <tr style=\"text-align: right;\">\n      <th></th>\n      <th>Neighbourhood</th>\n      <th>Postal Code</th>\n      <th>Borough</th>\n    </tr>\n  </thead>\n  <tbody>\n    <tr>\n      <th>0</th>\n      <td>Not assigned\\n</td>\n      <td>M1A\\n</td>\n      <td>Not assigned\\n</td>\n    </tr>\n    <tr>\n      <th>1</th>\n      <td>Not assigned\\n</td>\n      <td>M2A\\n</td>\n      <td>Not assigned\\n</td>\n    </tr>\n    <tr>\n      <th>2</th>\n      <td>Parkwoods\\n</td>\n      <td>M3A\\n</td>\n      <td>North York\\n</td>\n    </tr>\n    <tr>\n      <th>3</th>\n      <td>Victoria Village\\n</td>\n      <td>M4A\\n</td>\n      <td>North York\\n</td>\n    </tr>\n    <tr>\n      <th>4</th>\n      <td>Regent Park, Harbourfront\\n</td>\n      <td>M5A\\n</td>\n      <td>Downtown Toronto\\n</td>\n    </tr>\n  </tbody>\n</table>\n</div>",
                        "text/plain": "                 Neighbourhood Postal Code             Borough\n0               Not assigned\\n       M1A\\n      Not assigned\\n\n1               Not assigned\\n       M2A\\n      Not assigned\\n\n2                  Parkwoods\\n       M3A\\n        North York\\n\n3           Victoria Village\\n       M4A\\n        North York\\n\n4  Regent Park, Harbourfront\\n       M5A\\n  Downtown Toronto\\n"
                    },
                    "execution_count": 11,
                    "metadata": {},
                    "output_type": "execute_result"
                }
            ],
            "source": "df.columns = ['Postal Code', 'Borough', 'Neighbourhood']\n\ncols = df.columns.tolist()\ncols\n\ncols = cols[-1:] + cols[:-1]\n\ndf = df[cols]\n\ndf.head()"
        },
        {
            "cell_type": "markdown",
            "metadata": {},
            "source": "#### Cleaning data frame"
        },
        {
            "cell_type": "code",
            "execution_count": 12,
            "metadata": {},
            "outputs": [
                {
                    "data": {
                        "text/html": "<div>\n<style scoped>\n    .dataframe tbody tr th:only-of-type {\n        vertical-align: middle;\n    }\n\n    .dataframe tbody tr th {\n        vertical-align: top;\n    }\n\n    .dataframe thead th {\n        text-align: right;\n    }\n</style>\n<table border=\"1\" class=\"dataframe\">\n  <thead>\n    <tr style=\"text-align: right;\">\n      <th></th>\n      <th>Neighbourhood</th>\n      <th>Postal Code</th>\n      <th>Borough</th>\n    </tr>\n  </thead>\n  <tbody>\n    <tr>\n      <th>0</th>\n      <td>Not assigned</td>\n      <td>M1A</td>\n      <td>Not assigned</td>\n    </tr>\n    <tr>\n      <th>1</th>\n      <td>Not assigned</td>\n      <td>M2A</td>\n      <td>Not assigned</td>\n    </tr>\n    <tr>\n      <th>2</th>\n      <td>Parkwoods</td>\n      <td>M3A</td>\n      <td>North York</td>\n    </tr>\n    <tr>\n      <th>3</th>\n      <td>Victoria Village</td>\n      <td>M4A</td>\n      <td>North York</td>\n    </tr>\n    <tr>\n      <th>4</th>\n      <td>Regent Park, Harbourfront</td>\n      <td>M5A</td>\n      <td>Downtown Toronto</td>\n    </tr>\n  </tbody>\n</table>\n</div>",
                        "text/plain": "                Neighbourhood Postal Code            Borough\n0               Not assigned         M1A       Not assigned \n1               Not assigned         M2A       Not assigned \n2                  Parkwoods         M3A         North York \n3           Victoria Village         M4A         North York \n4  Regent Park, Harbourfront         M5A   Downtown Toronto "
                    },
                    "execution_count": 12,
                    "metadata": {},
                    "output_type": "execute_result"
                }
            ],
            "source": "df = df.replace('\\n', ' ', regex=True)\ndf.head()"
        },
        {
            "cell_type": "markdown",
            "metadata": {},
            "source": "#### Removing not assigned from Borough"
        },
        {
            "cell_type": "code",
            "execution_count": 13,
            "metadata": {},
            "outputs": [
                {
                    "data": {
                        "text/html": "<div>\n<style scoped>\n    .dataframe tbody tr th:only-of-type {\n        vertical-align: middle;\n    }\n\n    .dataframe tbody tr th {\n        vertical-align: top;\n    }\n\n    .dataframe thead th {\n        text-align: right;\n    }\n</style>\n<table border=\"1\" class=\"dataframe\">\n  <thead>\n    <tr style=\"text-align: right;\">\n      <th></th>\n      <th>Neighbourhood</th>\n      <th>Postal Code</th>\n      <th>Borough</th>\n    </tr>\n  </thead>\n  <tbody>\n    <tr>\n      <th>2</th>\n      <td>Parkwoods</td>\n      <td>M3A</td>\n      <td>North York</td>\n    </tr>\n    <tr>\n      <th>3</th>\n      <td>Victoria Village</td>\n      <td>M4A</td>\n      <td>North York</td>\n    </tr>\n    <tr>\n      <th>4</th>\n      <td>Regent Park, Harbourfront</td>\n      <td>M5A</td>\n      <td>Downtown Toronto</td>\n    </tr>\n    <tr>\n      <th>5</th>\n      <td>Lawrence Manor, Lawrence Heights</td>\n      <td>M6A</td>\n      <td>North York</td>\n    </tr>\n    <tr>\n      <th>6</th>\n      <td>Queen's Park, Ontario Provincial Government</td>\n      <td>M7A</td>\n      <td>Downtown Toronto</td>\n    </tr>\n  </tbody>\n</table>\n</div>",
                        "text/plain": "                                  Neighbourhood Postal Code            Borough\n2                                    Parkwoods         M3A         North York \n3                             Victoria Village         M4A         North York \n4                    Regent Park, Harbourfront         M5A   Downtown Toronto \n5             Lawrence Manor, Lawrence Heights         M6A         North York \n6  Queen's Park, Ontario Provincial Government         M7A   Downtown Toronto "
                    },
                    "execution_count": 13,
                    "metadata": {},
                    "output_type": "execute_result"
                }
            ],
            "source": "NA = df[df['Borough'] == 'Not assigned '].index\ndf.drop(NA, inplace = True)\ndf.head()"
        },
        {
            "cell_type": "markdown",
            "metadata": {},
            "source": "#### Grouping Neigbourhoods based on similar Postal Code and Borough"
        },
        {
            "cell_type": "code",
            "execution_count": 14,
            "metadata": {},
            "outputs": [
                {
                    "data": {
                        "text/html": "<div>\n<style scoped>\n    .dataframe tbody tr th:only-of-type {\n        vertical-align: middle;\n    }\n\n    .dataframe tbody tr th {\n        vertical-align: top;\n    }\n\n    .dataframe thead th {\n        text-align: right;\n    }\n</style>\n<table border=\"1\" class=\"dataframe\">\n  <thead>\n    <tr style=\"text-align: right;\">\n      <th></th>\n      <th>Postal Code</th>\n      <th>Borough</th>\n      <th>Neighbourhood</th>\n    </tr>\n  </thead>\n  <tbody>\n    <tr>\n      <th>0</th>\n      <td></td>\n      <td>Canadian postal codes</td>\n      <td></td>\n    </tr>\n    <tr>\n      <th>1</th>\n      <td>M1B</td>\n      <td>Scarborough</td>\n      <td>Malvern, Rouge</td>\n    </tr>\n    <tr>\n      <th>2</th>\n      <td>M1C</td>\n      <td>Scarborough</td>\n      <td>Rouge Hill, Port Union, Highland Creek</td>\n    </tr>\n    <tr>\n      <th>3</th>\n      <td>M1E</td>\n      <td>Scarborough</td>\n      <td>Guildwood, Morningside, West Hill</td>\n    </tr>\n    <tr>\n      <th>4</th>\n      <td>M1G</td>\n      <td>Scarborough</td>\n      <td>Woburn</td>\n    </tr>\n  </tbody>\n</table>\n</div>",
                        "text/plain": "  Postal Code                 Borough                            Neighbourhood\n0              Canadian postal codes                                          \n1        M1B             Scarborough                           Malvern, Rouge \n2        M1C             Scarborough   Rouge Hill, Port Union, Highland Creek \n3        M1E             Scarborough        Guildwood, Morningside, West Hill \n4        M1G             Scarborough                                   Woburn "
                    },
                    "execution_count": 14,
                    "metadata": {},
                    "output_type": "execute_result"
                }
            ],
            "source": "df = df.groupby(['Postal Code', 'Borough'])['Neighbourhood'].apply(','.join).reset_index()\ndf.columns = ['Postal Code', 'Borough', 'Neighbourhood']\ndf.head()"
        },
        {
            "cell_type": "markdown",
            "metadata": {},
            "source": "#### Cleaning up the data frame to be neat and tidy"
        },
        {
            "cell_type": "code",
            "execution_count": 15,
            "metadata": {},
            "outputs": [],
            "source": "df = df.drop(df.index[0])"
        },
        {
            "cell_type": "code",
            "execution_count": 16,
            "metadata": {},
            "outputs": [
                {
                    "data": {
                        "text/plain": "(103, 3)"
                    },
                    "execution_count": 16,
                    "metadata": {},
                    "output_type": "execute_result"
                }
            ],
            "source": "df.shape"
        },
        {
            "cell_type": "code",
            "execution_count": 17,
            "metadata": {},
            "outputs": [
                {
                    "data": {
                        "text/html": "<div>\n<style scoped>\n    .dataframe tbody tr th:only-of-type {\n        vertical-align: middle;\n    }\n\n    .dataframe tbody tr th {\n        vertical-align: top;\n    }\n\n    .dataframe thead th {\n        text-align: right;\n    }\n</style>\n<table border=\"1\" class=\"dataframe\">\n  <thead>\n    <tr style=\"text-align: right;\">\n      <th></th>\n      <th>Postal Code</th>\n      <th>Borough</th>\n      <th>Neighbourhood</th>\n    </tr>\n  </thead>\n  <tbody>\n    <tr>\n      <th>1</th>\n      <td>M1B</td>\n      <td>Scarborough</td>\n      <td>Malvern, Rouge</td>\n    </tr>\n    <tr>\n      <th>2</th>\n      <td>M1C</td>\n      <td>Scarborough</td>\n      <td>Rouge Hill, Port Union, Highland Creek</td>\n    </tr>\n    <tr>\n      <th>3</th>\n      <td>M1E</td>\n      <td>Scarborough</td>\n      <td>Guildwood, Morningside, West Hill</td>\n    </tr>\n    <tr>\n      <th>4</th>\n      <td>M1G</td>\n      <td>Scarborough</td>\n      <td>Woburn</td>\n    </tr>\n    <tr>\n      <th>5</th>\n      <td>M1H</td>\n      <td>Scarborough</td>\n      <td>Cedarbrae</td>\n    </tr>\n    <tr>\n      <th>6</th>\n      <td>M1J</td>\n      <td>Scarborough</td>\n      <td>Scarborough Village</td>\n    </tr>\n    <tr>\n      <th>7</th>\n      <td>M1K</td>\n      <td>Scarborough</td>\n      <td>Kennedy Park, Ionview, East Birchmount Park</td>\n    </tr>\n    <tr>\n      <th>8</th>\n      <td>M1L</td>\n      <td>Scarborough</td>\n      <td>Golden Mile, Clairlea, Oakridge</td>\n    </tr>\n    <tr>\n      <th>9</th>\n      <td>M1M</td>\n      <td>Scarborough</td>\n      <td>Cliffside, Cliffcrest, Scarborough Village West</td>\n    </tr>\n    <tr>\n      <th>10</th>\n      <td>M1N</td>\n      <td>Scarborough</td>\n      <td>Birch Cliff, Cliffside West</td>\n    </tr>\n    <tr>\n      <th>11</th>\n      <td>M1P</td>\n      <td>Scarborough</td>\n      <td>Dorset Park, Wexford Heights, Scarborough Town...</td>\n    </tr>\n    <tr>\n      <th>12</th>\n      <td>M1R</td>\n      <td>Scarborough</td>\n      <td>Wexford, Maryvale</td>\n    </tr>\n    <tr>\n      <th>13</th>\n      <td>M1S</td>\n      <td>Scarborough</td>\n      <td>Agincourt</td>\n    </tr>\n    <tr>\n      <th>14</th>\n      <td>M1T</td>\n      <td>Scarborough</td>\n      <td>Clarks Corners, Tam O'Shanter, Sullivan</td>\n    </tr>\n    <tr>\n      <th>15</th>\n      <td>M1V</td>\n      <td>Scarborough</td>\n      <td>Milliken, Agincourt North, Steeles East, L'Amo...</td>\n    </tr>\n    <tr>\n      <th>16</th>\n      <td>M1W</td>\n      <td>Scarborough</td>\n      <td>Steeles West, L'Amoreaux West</td>\n    </tr>\n    <tr>\n      <th>17</th>\n      <td>M1X</td>\n      <td>Scarborough</td>\n      <td>Upper Rouge</td>\n    </tr>\n    <tr>\n      <th>18</th>\n      <td>M2H</td>\n      <td>North York</td>\n      <td>Hillcrest Village</td>\n    </tr>\n    <tr>\n      <th>19</th>\n      <td>M2J</td>\n      <td>North York</td>\n      <td>Fairview, Henry Farm, Oriole</td>\n    </tr>\n    <tr>\n      <th>20</th>\n      <td>M2K</td>\n      <td>North York</td>\n      <td>Bayview Village</td>\n    </tr>\n  </tbody>\n</table>\n</div>",
                        "text/plain": "   Postal Code       Borough  \\\n1         M1B   Scarborough    \n2         M1C   Scarborough    \n3         M1E   Scarborough    \n4         M1G   Scarborough    \n5         M1H   Scarborough    \n6         M1J   Scarborough    \n7         M1K   Scarborough    \n8         M1L   Scarborough    \n9         M1M   Scarborough    \n10        M1N   Scarborough    \n11        M1P   Scarborough    \n12        M1R   Scarborough    \n13        M1S   Scarborough    \n14        M1T   Scarborough    \n15        M1V   Scarborough    \n16        M1W   Scarborough    \n17        M1X   Scarborough    \n18        M2H    North York    \n19        M2J    North York    \n20        M2K    North York    \n\n                                        Neighbourhood  \n1                                     Malvern, Rouge   \n2             Rouge Hill, Port Union, Highland Creek   \n3                  Guildwood, Morningside, West Hill   \n4                                             Woburn   \n5                                          Cedarbrae   \n6                                Scarborough Village   \n7        Kennedy Park, Ionview, East Birchmount Park   \n8                    Golden Mile, Clairlea, Oakridge   \n9    Cliffside, Cliffcrest, Scarborough Village West   \n10                       Birch Cliff, Cliffside West   \n11  Dorset Park, Wexford Heights, Scarborough Town...  \n12                                 Wexford, Maryvale   \n13                                         Agincourt   \n14           Clarks Corners, Tam O'Shanter, Sullivan   \n15  Milliken, Agincourt North, Steeles East, L'Amo...  \n16                     Steeles West, L'Amoreaux West   \n17                                       Upper Rouge   \n18                                 Hillcrest Village   \n19                      Fairview, Henry Farm, Oriole   \n20                                   Bayview Village   "
                    },
                    "execution_count": 17,
                    "metadata": {},
                    "output_type": "execute_result"
                }
            ],
            "source": "df.head(20)"
        },
        {
            "cell_type": "code",
            "execution_count": 18,
            "metadata": {},
            "outputs": [],
            "source": "df.to_csv(r'df_final.csv')"
        },
        {
            "cell_type": "code",
            "execution_count": null,
            "metadata": {},
            "outputs": [],
            "source": ""
        }
    ],
    "metadata": {
        "kernelspec": {
            "display_name": "Python 3.6",
            "language": "python",
            "name": "python3"
        },
        "language_info": {
            "codemirror_mode": {
                "name": "ipython",
                "version": 3
            },
            "file_extension": ".py",
            "mimetype": "text/x-python",
            "name": "python",
            "nbconvert_exporter": "python",
            "pygments_lexer": "ipython3",
            "version": "3.6.9"
        }
    },
    "nbformat": 4,
    "nbformat_minor": 1
}