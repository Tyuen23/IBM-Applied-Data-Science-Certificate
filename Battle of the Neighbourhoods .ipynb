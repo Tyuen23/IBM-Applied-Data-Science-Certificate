{
    "cells": [
        {
            "cell_type": "code",
            "execution_count": 2,
            "metadata": {},
            "outputs": [
                {
                    "name": "stdout",
                    "output_type": "stream",
                    "text": "packages installed\n"
                }
            ],
            "source": "# import libraries \nimport pandas as pd\nimport numpy as np\nimport matplotlib.pyplot as plt\nimport seaborn as sea\nimport requests\nimport json\nfrom bs4 import BeautifulSoup as soup\nimport matplotlib.cm as cm\nimport matplotlib.colors as clr\n%matplotlib inline\nprint('packages installed')"
        },
        {
            "cell_type": "code",
            "execution_count": null,
            "metadata": {},
            "outputs": [
                {
                    "name": "stdout",
                    "output_type": "stream",
                    "text": "Solving environment: | "
                }
            ],
            "source": "!conda install -c conda-forge folium=0.5.0 --yes\nimport folium"
        },
        {
            "cell_type": "code",
            "execution_count": null,
            "metadata": {},
            "outputs": [],
            "source": "# retrieve neighbourhood data from Wikipedia and transform into readable dataframe\n\nlink = 'https://en.wikipedia.org/wiki/List_of_city-designated_neighbourhoods_in_Toronto'\next = requests.get(link)\nnh_data = soup(ext.content)\ncontent = soup(str(nh_data))\nnh_table = content.find('table',{'class':'wikitable sortable'})\nstr_table = str(nh_table.extract())"
        },
        {
            "cell_type": "code",
            "execution_count": null,
            "metadata": {},
            "outputs": [],
            "source": "# reading the table \n\ndf = pd.read_html(str_table)[0]\ndf.head()"
        },
        {
            "cell_type": "code",
            "execution_count": null,
            "metadata": {},
            "outputs": [],
            "source": "list(df.columns)"
        },
        {
            "cell_type": "code",
            "execution_count": null,
            "metadata": {},
            "outputs": [],
            "source": "# drop the last 3 columns as they are not needed\n\ndf_drop = df.drop(['Neighbourhoods covered', 'Map', 'Unnamed: 5'], axis =1)"
        },
        {
            "cell_type": "code",
            "execution_count": null,
            "metadata": {},
            "outputs": [],
            "source": "df_drop"
        },
        {
            "cell_type": "code",
            "execution_count": null,
            "metadata": {},
            "outputs": [],
            "source": "df_drop.rename(columns={'City-designated neighbourhood' : 'Neighborhood', 'Former city/borough' : 'borough'}, inplace=True)"
        },
        {
            "cell_type": "code",
            "execution_count": null,
            "metadata": {},
            "outputs": [],
            "source": "df_drop.head()"
        },
        {
            "cell_type": "code",
            "execution_count": null,
            "metadata": {},
            "outputs": [],
            "source": "# The code was removed by Watson Studio for sharing."
        },
        {
            "cell_type": "code",
            "execution_count": null,
            "metadata": {},
            "outputs": [],
            "source": "df_data_1.drop(columns = ['Topic','Data Source','Category',], inplace=True)\ndf_data_1"
        },
        {
            "cell_type": "code",
            "execution_count": null,
            "metadata": {},
            "outputs": [],
            "source": "census_data = df_data_1.T\ncensus_data"
        },
        {
            "cell_type": "code",
            "execution_count": null,
            "metadata": {},
            "outputs": [],
            "source": "new_header = census_data.iloc[3]\ncensus_data = census_data[1:]\ncensus_data.columns = new_header\ncensus_data"
        },
        {
            "cell_type": "code",
            "execution_count": null,
            "metadata": {},
            "outputs": [],
            "source": "list(census_data.columns)"
        },
        {
            "cell_type": "code",
            "execution_count": null,
            "metadata": {},
            "outputs": [],
            "source": "census_data = census_data.iloc[4:]\ncensus_data"
        },
        {
            "cell_type": "code",
            "execution_count": null,
            "metadata": {},
            "outputs": [],
            "source": "census_filtered = census_data.loc[:, ['Characteristic','Population, 2016','Working Age (25-54 years)','  After-tax income: Average amount ($)']]\ncensus_filtered"
        },
        {
            "cell_type": "code",
            "execution_count": null,
            "metadata": {},
            "outputs": [],
            "source": "census_filtered.columns= ['Neighborhood', 'Population', 'Working_Age_Population','After_tax_income']\ncensus_filtered"
        },
        {
            "cell_type": "code",
            "execution_count": null,
            "metadata": {},
            "outputs": [],
            "source": "#merge first two data sets of geo data and webscraped neighbourhoods\n\ndf_merge = pd.merge(df_drop, census_filtered, how = 'inner')\ndf_merge"
        },
        {
            "cell_type": "code",
            "execution_count": null,
            "metadata": {},
            "outputs": [],
            "source": "df_merge.dtypes"
        },
        {
            "cell_type": "code",
            "execution_count": null,
            "metadata": {},
            "outputs": [],
            "source": "df_merge['Population'] = df_merge['Population'].astype(str).astype(int)"
        },
        {
            "cell_type": "code",
            "execution_count": null,
            "metadata": {},
            "outputs": [],
            "source": "df_merge['Working_Age_Population'] = df_merge['Working_Age_Population'].astype(str).astype(int)"
        },
        {
            "cell_type": "code",
            "execution_count": null,
            "metadata": {},
            "outputs": [],
            "source": "df_merge['After_tax_income'] = df_merge['After_tax_income'].astype(str).astype(int)"
        },
        {
            "cell_type": "code",
            "execution_count": null,
            "metadata": {},
            "outputs": [],
            "source": "df_merge.dtypes"
        },
        {
            "cell_type": "code",
            "execution_count": null,
            "metadata": {},
            "outputs": [],
            "source": "pop_median = df_merge.Population.median()\npop_median"
        },
        {
            "cell_type": "code",
            "execution_count": null,
            "metadata": {},
            "outputs": [],
            "source": "Wap_median = df_merge.Working_Age_Population.median()\nWap_median"
        },
        {
            "cell_type": "code",
            "execution_count": null,
            "metadata": {},
            "outputs": [],
            "source": "Ati_median = df_merge.After_tax_income.median()\nAti_median"
        },
        {
            "cell_type": "code",
            "execution_count": null,
            "metadata": {},
            "outputs": [],
            "source": "df_merge['Pop_score'] = df_merge.Population/pop_median * 1\ndf_merge"
        },
        {
            "cell_type": "code",
            "execution_count": null,
            "metadata": {},
            "outputs": [],
            "source": "df_merge['Wap_score'] = df_merge.Population/Wap_median * 1.25\ndf_merge"
        },
        {
            "cell_type": "code",
            "execution_count": null,
            "metadata": {},
            "outputs": [],
            "source": "df_merge['Ati_score'] = df_merge.Population/Ati_median * 1.5\ndf_merge"
        },
        {
            "cell_type": "code",
            "execution_count": null,
            "metadata": {},
            "outputs": [],
            "source": "df_merge['Total_score'] = df_merge['Pop_score'] + df_merge['Wap_score'] + df_merge['Ati_score']\ndf_merge"
        },
        {
            "cell_type": "code",
            "execution_count": null,
            "metadata": {},
            "outputs": [],
            "source": "df_merge.sort_values(['Total_score'], inplace = True)\ndf_merge"
        },
        {
            "cell_type": "code",
            "execution_count": null,
            "metadata": {},
            "outputs": [],
            "source": "# retrieve neighbourhood data from Wikipedia and transform into readable dataframe\n\nurl = 'https://en.wikipedia.org/wiki/List_of_postal_codes_of_Canada:_M'\next = requests.get(url)\nnh_data = soup(ext.content)\ncontent = soup(str(nh_data))\nnh_table = content.find('table',{'class':'wikitable sortable'})\nstr_table = str(nh_table.extract())"
        },
        {
            "cell_type": "code",
            "execution_count": null,
            "metadata": {},
            "outputs": [],
            "source": "# reading the table \n\ndf = pd.read_html(str_table)[0]\ndf.head()"
        },
        {
            "cell_type": "code",
            "execution_count": null,
            "metadata": {},
            "outputs": [],
            "source": "df_revised= df[df.Borough != 'Not assigned'].reset_index(drop=True)"
        },
        {
            "cell_type": "code",
            "execution_count": null,
            "metadata": {},
            "outputs": [],
            "source": "df_revised.rename(columns={'Postal Code' : 'PostalCode'}, inplace=True)"
        },
        {
            "cell_type": "code",
            "execution_count": null,
            "metadata": {},
            "outputs": [],
            "source": "#Clean the data out of extras by grouping\n\ndf_grouped = df_revised.groupby(['PostalCode','Borough'], as_index = False).agg(lambda x:','.join(x))\ndf_grouped.head()"
        },
        {
            "cell_type": "code",
            "execution_count": null,
            "metadata": {},
            "outputs": [],
            "source": "# get the latitudes and longitudes from dataframe given\n\ngeo_url = \"https://cocl.us/Geospatial_data\"\n\ngeo_df = pd.read_csv(geo_url)\ngeo_df.rename(columns={'Postal Code': 'PostalCode'}, inplace=True)\ngeo_df.head()"
        },
        {
            "cell_type": "code",
            "execution_count": null,
            "metadata": {},
            "outputs": [],
            "source": "df_code = pd.merge(df_grouped, geo_df, on='PostalCode')\ndf_code.head()\ndf_code.shape"
        },
        {
            "cell_type": "code",
            "execution_count": null,
            "metadata": {},
            "outputs": [],
            "source": "#yyz_core = ['West Toronto', 'East Toronto', 'Downtown Toronto', 'Central Toronto']\n#df_yyz = df_code.loc[df_code['Borough'].isin(yyz_core)]\n#df_yyz"
        },
        {
            "cell_type": "code",
            "execution_count": null,
            "metadata": {},
            "outputs": [],
            "source": "# Googled torontos coordinates as geo module does not work\nyyz_lat = 43.6532\nyyz_lng = -79.3832"
        },
        {
            "cell_type": "code",
            "execution_count": null,
            "metadata": {},
            "outputs": [],
            "source": "CLIENT_ID = 'EGX1TJDMIALSXJUGUIGAMIKR5BQGK1AZYBRGQLU2QSMVO32N' # your Foursquare ID\nCLIENT_SECRET = 'FVRACNKHDALKLFXKXAIG5QLTAJYO3D4NO1W0ZDEXNL1SDI12' # your Foursquare Secret\nVERSION = '20180604'\nLIMIT = 30\nprint('Your credentails:')\nprint('CLIENT_ID: ' + CLIENT_ID)\nprint('CLIENT_SECRET:' + CLIENT_SECRET)"
        },
        {
            "cell_type": "code",
            "execution_count": null,
            "metadata": {},
            "outputs": [],
            "source": "from sklearn.cluster import KMeans"
        },
        {
            "cell_type": "code",
            "execution_count": null,
            "metadata": {},
            "outputs": [],
            "source": "df_yyz.dtypes"
        },
        {
            "cell_type": "code",
            "execution_count": null,
            "metadata": {},
            "outputs": [],
            "source": "df_code['Borough'] = df_code.Borough.astype(str)\ndf_code['Latitude'] = df_code.Latitude.astype(float)\ndf_code['Longitude'] = df_code.Longitude.astype(float)"
        },
        {
            "cell_type": "code",
            "execution_count": null,
            "metadata": {},
            "outputs": [],
            "source": "map_yyz = folium.Map(location=[yyz_lat, yyz_lng], zoom_start=11)\n\nfor lat, long, post, borough, neigh in zip(df_code['Latitude'], df_code['Longitude'], df_code['PostalCode'], df_code['Borough'], df_code['Neighborhood']):\n    label = \"{} ({}): {}\".format(borough, post, neigh)\n    popup = folium.Popup(label, parse_html=True)\n    folium.CircleMarker(\n        [lat, long],\n        radius=5,\n        popup=popup,\n        color='blue',\n        fill=True,\n        fill_color='#3186cc',\n        fill_opacity=0.7,\n        parse_html=False).add_to(map_yyz)\n    \nmap_yyz"
        },
        {
            "cell_type": "code",
            "execution_count": null,
            "metadata": {},
            "outputs": [],
            "source": "def get_category_type(row):\n    try:\n        categories_list = row['Category']\n    except:\n        categories_list = row['venue.categories']\n        \n    if len(categories_list) == 0:\n        return None\n    else:\n        return categories_list[0]['name']"
        },
        {
            "cell_type": "code",
            "execution_count": null,
            "metadata": {},
            "outputs": [],
            "source": "radius = 500\nLIMIT = 100\n\nvenues = []\n\nfor lat, long, post, borough, neighborhood in zip(df_code['Latitude'], df_code['Longitude'], df_code['PostalCode'], df_code['Borough'], df_code['Neighborhood']):\n    url = \"https://api.foursquare.com/v2/venues/explore?client_id={}&client_secret={}&v={}&ll={},{}&radius={}&limit={}\".format(\n        CLIENT_ID,\n        CLIENT_SECRET,\n        VERSION,\n        lat,\n        long,\n        radius, \n        LIMIT)\n    \n    results = requests.get(url).json()[\"response\"]['groups'][0]['items']\n    \n    for venue in results:\n        venues.append((\n            post, \n            borough,\n            neighborhood,\n            lat, \n            long, \n            venue['venue']['name'], \n            venue['venue']['location']['lat'], \n            venue['venue']['location']['lng'],  \n            venue['venue']['categories'][0]['name']))\n    "
        },
        {
            "cell_type": "code",
            "execution_count": null,
            "metadata": {},
            "outputs": [],
            "source": "v_df = pd.DataFrame(venues)\nv_df.columns = ['PostalCode', 'Borough', 'Neighborhood', 'BoroughLatitude', 'BoroughLongitude', 'VenueName', 'VenueLatitude', 'VenueLongitude', 'VenueCategory']\nprint(v_df.shape)\nv_df.head()"
        },
        {
            "cell_type": "code",
            "execution_count": null,
            "metadata": {},
            "outputs": [],
            "source": "v_df.VenueCategory.describe"
        },
        {
            "cell_type": "code",
            "execution_count": null,
            "metadata": {},
            "outputs": [],
            "source": "v_df.groupby(['PostalCode', 'Borough', 'Neighborhood'])['VenueName'].count()"
        },
        {
            "cell_type": "code",
            "execution_count": null,
            "metadata": {},
            "outputs": [],
            "source": "len(v_df['VenueCategory'].unique())"
        },
        {
            "cell_type": "code",
            "execution_count": null,
            "metadata": {},
            "outputs": [],
            "source": "# one hot encoding\nyyz_central_onehot = pd.get_dummies(v_df[['VenueCategory']], prefix=\"\", prefix_sep=\"\")\n\n# add postal, borough and neighborhood column back to dataframe\nyyz_central_onehot['PostalCode'] = v_df['PostalCode'] \nyyz_central_onehot['Borough'] = v_df['Borough'] \nyyz_central_onehot['Neighborhoods'] = v_df['Neighborhood'] \n\n# move postal, borough and neighborhood column to the first column\nfixed_columns = list(yyz_central_onehot.columns[-3:]) + list(yyz_central_onehot.columns[:-3])\nyyz_central_onehot = yyz_central_onehot[fixed_columns]\n\nprint(yyz_central_onehot.shape)\nyyz_central_onehot.head()"
        },
        {
            "cell_type": "code",
            "execution_count": null,
            "metadata": {},
            "outputs": [],
            "source": "yyz_central_freq = yyz_central_onehot.groupby(['PostalCode', 'Borough', 'Neighborhoods']).mean().reset_index()\nprint(yyz_central_freq.shape)\nyyz_central_freq.head()"
        },
        {
            "cell_type": "code",
            "execution_count": null,
            "metadata": {},
            "outputs": [],
            "source": "coffee = yyz_central_freq[[\"Neighborhoods\",\"Coffee Shop\"]]\ncoffee.head(10)\ncoffee.shape"
        },
        {
            "cell_type": "code",
            "execution_count": null,
            "metadata": {},
            "outputs": [],
            "source": "kclusters = 6\n\nyyz_clustering = coffee.drop('Neighborhoods', 1)\n\nkmeans = KMeans(n_clusters=kclusters, random_state=0).fit(yyz_clustering)\n\n# check cluster labels generated for each row in the dataframe\nkmeans.labels_[0:10]"
        },
        {
            "cell_type": "code",
            "execution_count": null,
            "metadata": {},
            "outputs": [],
            "source": "# create a new dataframe that includes the cluster as well as the top 10 venues for each neighborhood.\nyyz_merged = coffee.copy()\n\n# add clustering labels\nyyz_merged[\"Cluster Labels\"] = kmeans.labels_"
        },
        {
            "cell_type": "code",
            "execution_count": null,
            "metadata": {},
            "outputs": [],
            "source": "yyz_merged.head()"
        },
        {
            "cell_type": "code",
            "execution_count": null,
            "metadata": {},
            "outputs": [],
            "source": "yyz_merged = yyz_merged.rename(columns={'Neighborhoods':'Neighborhood'})\nyyz_merged"
        },
        {
            "cell_type": "code",
            "execution_count": null,
            "metadata": {},
            "outputs": [],
            "source": "yyz_merged = yyz_merged.join(v_df.set_index(\"Neighborhood\"), on=\"Neighborhood\", how ='left')\n\nprint(yyz_merged.shape)\nyyz_merged.head()"
        },
        {
            "cell_type": "code",
            "execution_count": null,
            "metadata": {},
            "outputs": [],
            "source": "yyz_merged.sort_values([\"Cluster Labels\"], inplace=True)\nyyz_merged"
        },
        {
            "cell_type": "code",
            "execution_count": null,
            "metadata": {},
            "outputs": [],
            "source": "yyz_merged['VenueCategory'].value_counts()['Coffee Shop']"
        },
        {
            "cell_type": "code",
            "execution_count": null,
            "metadata": {},
            "outputs": [],
            "source": "# create map\nyyz_clusters = folium.Map(location=[yyz_lat, yyz_lng], zoom_start=11)\n\n# set color scheme for the clusters\nx = np.arange(kclusters)\nys = [i+x+(i*x)**2 for i in range(kclusters)]\ncolors_array = cm.rainbow(np.linspace(0, 1, len(ys)))\nrainbow = [clr.rgb2hex(i) for i in colors_array]\n\n# add markers to the map\nmarkers_colors = []\nfor lat, lon, post, bor, poi, cluster in zip(yyz_merged['BoroughLatitude'], yyz_merged['BoroughLongitude'], yyz_merged['Borough'], yyz_merged['PostalCode']\n                                             ,yyz_merged['Neighborhood'], yyz_merged['Cluster Labels']):\n    label = folium.Popup('{} ({}): {} - Cluster {}'.format(bor, post, poi, cluster), parse_html=True)\n    folium.CircleMarker(\n        [lat, lon],\n        radius=5,\n        popup=label,\n        color=rainbow[cluster-1],\n        fill=True,\n        fill_color=rainbow[cluster-1],\n        fill_opacity=0.7).add_to(yyz_clusters)\n       \nyyz_clusters"
        },
        {
            "cell_type": "code",
            "execution_count": null,
            "metadata": {},
            "outputs": [],
            "source": "coffee[\"Cluster Labels\"] = kmeans.labels_\ncoffee.head()"
        },
        {
            "cell_type": "code",
            "execution_count": null,
            "metadata": {},
            "outputs": [],
            "source": "objects = (1,2,3,4,5,6)\ny_pos = np.arange(len(objects))\nperformance = coffee['Cluster Labels'].value_counts().to_frame().sort_index(ascending=True)\nperf = performance['Cluster Labels'].tolist()\nplt.bar(y_pos, perf, align='center', alpha=0.8, color=['red','blue','purple','silver','orange','green'])\nplt.xticks(y_pos, objects)\nplt.ylabel('No of Neighborhoods')\nplt.xlabel('Cluster')\nplt.title('How many Neighborhoods per Cluster')\n\nplt.show()"
        },
        {
            "cell_type": "code",
            "execution_count": null,
            "metadata": {},
            "outputs": [],
            "source": "coffee['Cluster Labels'].value_counts()"
        },
        {
            "cell_type": "code",
            "execution_count": null,
            "metadata": {},
            "outputs": [],
            "source": "Neighborhoods = df_grouped[['Borough', 'Neighborhood']]"
        },
        {
            "cell_type": "code",
            "execution_count": null,
            "metadata": {},
            "outputs": [],
            "source": "Neighborhoods"
        },
        {
            "cell_type": "code",
            "execution_count": null,
            "metadata": {},
            "outputs": [],
            "source": "yyz_merged.dtypes"
        },
        {
            "cell_type": "code",
            "execution_count": null,
            "metadata": {},
            "outputs": [],
            "source": "zero_cluster = yyz_merged.loc[yyz_merged['Cluster Labels'] == 0]\ndf_cluster1 = pd.merge(Neighborhoods, zero_cluster, on='Neighborhood', how='left')\ndf_cluster1"
        },
        {
            "cell_type": "code",
            "execution_count": null,
            "metadata": {},
            "outputs": [],
            "source": "one_cluster =yyz_merged.loc[yyz_merged['Cluster Labels'] == 1]\ndf_cluster2 = pd.merge(Neighborhoods, one_cluster, on='Neighborhood')\ndf_cluster2"
        },
        {
            "cell_type": "code",
            "execution_count": null,
            "metadata": {},
            "outputs": [],
            "source": "two_cluster =yyz_merged.loc[yyz_merged['Cluster Labels'] == 2]\ndf_cluster3 = pd.merge(Neighborhoods, two_cluster, on='Neighborhood')\ndf_cluster3"
        },
        {
            "cell_type": "code",
            "execution_count": null,
            "metadata": {},
            "outputs": [],
            "source": "three_cluster =yyz_merged.loc[yyz_merged['Cluster Labels'] == 3]\ndf_cluster4 = pd.merge(Neighborhoods, three_cluster, on='Neighborhood')\ndf_cluster4"
        },
        {
            "cell_type": "code",
            "execution_count": null,
            "metadata": {},
            "outputs": [],
            "source": "four_cluster =yyz_merged.loc[yyz_merged['Cluster Labels'] == 4]\ndf_cluster5 = pd.merge(Neighborhoods, four_cluster, on='Neighborhood')\ndf_cluster5"
        },
        {
            "cell_type": "code",
            "execution_count": null,
            "metadata": {},
            "outputs": [],
            "source": "five_cluster =yyz_merged.loc[yyz_merged['Cluster Labels'] == 5]\ndf_cluster6 = pd.merge(Neighborhoods, five_cluster, on='Neighborhood')\ndf_cluster6"
        },
        {
            "cell_type": "code",
            "execution_count": null,
            "metadata": {},
            "outputs": [],
            "source": "clusters_mean = [df_cluster1['Coffee Shop'].mean(),df_cluster2['Coffee Shop'].mean(),df_cluster3['Coffee Shop'].mean(),\n                 df_cluster4['Coffee Shop'].mean(),df_cluster5['Coffee Shop'].mean(),df_cluster6['Coffee Shop'].mean()]\nobjects = (1,2,3,4,5,6)\ny_pos = np.arange(len(objects))\nperf = clusters_mean\nplt.bar(y_pos, perf, align='center', alpha=0.8, color=['red','blue','purple','silver','green','orange'])\nplt.xticks(y_pos, objects)\nplt.ylabel('Mean')\nplt.xlabel('Cluster')\nplt.title('Average number of Coffee Shops per Cluster')\n\nplt.show()"
        },
        {
            "cell_type": "code",
            "execution_count": null,
            "metadata": {},
            "outputs": [],
            "source": "# one hot encoding\nyyz_central_onehot_sbux = pd.get_dummies(v_df[['VenueName']], prefix=\"\", prefix_sep=\"\")\n\n# add postal, borough and neighborhood column back to dataframe\nyyz_central_onehot_sbux['PostalCode'] = v_df['PostalCode'] \nyyz_central_onehot_sbux['Borough'] = v_df['Borough'] \nyyz_central_onehot_sbux['Neighborhoods'] = v_df['Neighborhood'] \n\n# move postal, borough and neighborhood column to the first column\nfixed_columns_sbux = list(yyz_central_onehot_sbux.columns[-3:]) + list(yyz_central_onehot_sbux.columns[:-3])\nyyz_central_onehot_sbux = yyz_central_onehot_sbux[fixed_columns_sbux]\n\nprint(yyz_central_onehot_sbux.shape)\nyyz_central_onehot_sbux.head()"
        },
        {
            "cell_type": "code",
            "execution_count": null,
            "metadata": {},
            "outputs": [],
            "source": "yyz_central_freq_sbux = yyz_central_onehot_sbux.groupby(['PostalCode', 'Borough', 'Neighborhoods']).mean().reset_index()\nprint(yyz_central_freq_sbux.shape)\nyyz_central_freq_sbux.head()"
        },
        {
            "cell_type": "code",
            "execution_count": null,
            "metadata": {},
            "outputs": [],
            "source": "sbux = yyz_central_freq_sbux[[\"Neighborhoods\",\"Starbucks\"]]\nsbux.head(10)\nsbux.shape"
        },
        {
            "cell_type": "code",
            "execution_count": null,
            "metadata": {},
            "outputs": [],
            "source": "kclusters = 6\n\nsbux_clustering = sbux.drop('Neighborhoods', 1)\n\nkmeans_sbux = KMeans(n_clusters=kclusters, random_state=0).fit(sbux_clustering)\n\n# check cluster labels generated for each row in the dataframe\nkmeans_sbux.labels_[0:10]"
        },
        {
            "cell_type": "code",
            "execution_count": null,
            "metadata": {},
            "outputs": [],
            "source": "# create a new dataframe that includes the cluster as well as the top 10 venues for each neighborhood.\nsbux_merged = sbux.copy()\n\n# add clustering labels\nsbux_merged[\"Cluster Labels\"] = kmeans_sbux.labels_"
        },
        {
            "cell_type": "code",
            "execution_count": null,
            "metadata": {},
            "outputs": [],
            "source": "sbux_merged = sbux_merged.rename(columns={'Neighborhoods':'Neighborhood'})\nsbux_merged"
        },
        {
            "cell_type": "code",
            "execution_count": null,
            "metadata": {},
            "outputs": [],
            "source": "sbux_merged = sbux_merged.join(v_df.set_index(\"Neighborhood\"), on=\"Neighborhood\", how ='left')\n\nprint(sbux_merged.shape)\nsbux_merged.head()"
        },
        {
            "cell_type": "code",
            "execution_count": null,
            "metadata": {},
            "outputs": [],
            "source": "sbux_merged.sort_values([\"Cluster Labels\"], inplace=True)\nsbux_merged"
        },
        {
            "cell_type": "code",
            "execution_count": null,
            "metadata": {},
            "outputs": [],
            "source": "sbux_merged['VenueName'].value_counts()['Starbucks']"
        },
        {
            "cell_type": "code",
            "execution_count": null,
            "metadata": {},
            "outputs": [],
            "source": "sbux_merged"
        },
        {
            "cell_type": "code",
            "execution_count": null,
            "metadata": {},
            "outputs": [],
            "source": "sbux_merged['VenueName'] = sbux_merged['VenueName'].astype(str)\nsbux_merged"
        },
        {
            "cell_type": "code",
            "execution_count": null,
            "metadata": {},
            "outputs": [],
            "source": "list(sbux_merged.VenueName)"
        },
        {
            "cell_type": "code",
            "execution_count": null,
            "metadata": {},
            "outputs": [],
            "source": "sbux_merged = sbux_merged.loc[sbux_merged['VenueName'].isin(['Starbucks'])]\nsbux_merged"
        },
        {
            "cell_type": "code",
            "execution_count": null,
            "metadata": {},
            "outputs": [],
            "source": "# create map\nsbux_clusters = folium.Map(location=[yyz_lat, yyz_lng], zoom_start=11)\n\n# set color scheme for the clusters\nx = np.arange(kclusters)\nys = [i+x+(i*x)**2 for i in range(kclusters)]\ncolors_array = cm.rainbow(np.linspace(0, 1, len(ys)))\nrainbow = [clr.rgb2hex(i) for i in colors_array]\n\n# add markers to the map\nmarkers_colors = []\nfor lat, lon, post, bor, poi, cluster in zip(sbux_merged['BoroughLatitude'], sbux_merged['BoroughLongitude'], sbux_merged['Borough'], sbux_merged['PostalCode']\n                                             ,sbux_merged['Neighborhood'], sbux_merged['Cluster Labels']):\n    label = folium.Popup('{} ({}): {} - Cluster {}'.format(bor, post, poi, cluster), parse_html=True)\n    folium.CircleMarker(\n        [lat, lon],\n        radius=5,\n        popup=label,\n        color=rainbow[cluster-1],\n        fill=True,\n        fill_color=rainbow[cluster-1],\n        fill_opacity=0.7).add_to(sbux_clusters)\n       \nsbux_clusters"
        },
        {
            "cell_type": "code",
            "execution_count": null,
            "metadata": {},
            "outputs": [],
            "source": ""
        },
        {
            "cell_type": "code",
            "execution_count": null,
            "metadata": {},
            "outputs": [],
            "source": ""
        }
    ],
    "metadata": {
        "kernelspec": {
            "display_name": "Python 3.6",
            "language": "python",
            "name": "python3"
        },
        "language_info": {
            "codemirror_mode": {
                "name": "ipython",
                "version": 3
            },
            "file_extension": ".py",
            "mimetype": "text/x-python",
            "name": "python",
            "nbconvert_exporter": "python",
            "pygments_lexer": "ipython3",
            "version": "3.6.9"
        }
    },
    "nbformat": 4,
    "nbformat_minor": 1
}